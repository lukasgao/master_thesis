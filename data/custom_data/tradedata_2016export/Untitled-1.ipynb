{
 "cells": [
  {
   "cell_type": "code",
   "execution_count": 1,
   "metadata": {},
   "outputs": [],
   "source": [
    "import pandas as pd\n",
    "\n",
    "import os"
   ]
  },
  {
   "cell_type": "code",
   "execution_count": 2,
   "metadata": {},
   "outputs": [],
   "source": [
    "df = pd.read_parquet('merged_data.parquet')\n",
    "len(df)"
   ]
  },
  {
   "cell_type": "code",
   "execution_count": 5,
   "metadata": {},
   "outputs": [
    {
     "data": {
      "text/html": [
       "<div>\n",
       "<style scoped>\n",
       "    .dataframe tbody tr th:only-of-type {\n",
       "        vertical-align: middle;\n",
       "    }\n",
       "\n",
       "    .dataframe tbody tr th {\n",
       "        vertical-align: top;\n",
       "    }\n",
       "\n",
       "    .dataframe thead th {\n",
       "        text-align: right;\n",
       "    }\n",
       "</style>\n",
       "<table border=\"1\" class=\"dataframe\">\n",
       "  <thead>\n",
       "    <tr style=\"text-align: right;\">\n",
       "      <th></th>\n",
       "      <th>年份</th>\n",
       "      <th>进出口标志</th>\n",
       "      <th>贸易方式编码</th>\n",
       "      <th>贸易方式名称</th>\n",
       "      <th>产销国编码</th>\n",
       "      <th>产销国名称</th>\n",
       "      <th>商品HS8位编码</th>\n",
       "      <th>商品HS8位名称</th>\n",
       "      <th>企业编码</th>\n",
       "      <th>企业名称</th>\n",
       "      <th>出口金额</th>\n",
       "    </tr>\n",
       "  </thead>\n",
       "  <tbody>\n",
       "    <tr>\n",
       "      <th>0</th>\n",
       "      <td>2016</td>\n",
       "      <td>出口</td>\n",
       "      <td>10</td>\n",
       "      <td>一般贸易</td>\n",
       "      <td>101</td>\n",
       "      <td>阿富汗</td>\n",
       "      <td>83011000</td>\n",
       "      <td>挂锁</td>\n",
       "      <td>4403160056</td>\n",
       "      <td>深圳市一达通企业服务有限公司</td>\n",
       "      <td>49138.0</td>\n",
       "    </tr>\n",
       "    <tr>\n",
       "      <th>1</th>\n",
       "      <td>2016</td>\n",
       "      <td>出口</td>\n",
       "      <td>10</td>\n",
       "      <td>一般贸易</td>\n",
       "      <td>101</td>\n",
       "      <td>阿富汗</td>\n",
       "      <td>83024100</td>\n",
       "      <td>建筑用其他贱金属制附件及架座</td>\n",
       "      <td>3318961C07</td>\n",
       "      <td>义乌市时雨进出口有限公司</td>\n",
       "      <td>753.0</td>\n",
       "    </tr>\n",
       "    <tr>\n",
       "      <th>2</th>\n",
       "      <td>2016</td>\n",
       "      <td>出口</td>\n",
       "      <td>10</td>\n",
       "      <td>一般贸易</td>\n",
       "      <td>101</td>\n",
       "      <td>阿富汗</td>\n",
       "      <td>83100000</td>\n",
       "      <td>贱金属标志牌、铭牌、地名牌、号码等标志</td>\n",
       "      <td>3302240204</td>\n",
       "      <td>宁波怡人玩具有限公司</td>\n",
       "      <td>10.0</td>\n",
       "    </tr>\n",
       "    <tr>\n",
       "      <th>3</th>\n",
       "      <td>2016</td>\n",
       "      <td>出口</td>\n",
       "      <td>10</td>\n",
       "      <td>一般贸易</td>\n",
       "      <td>101</td>\n",
       "      <td>阿富汗</td>\n",
       "      <td>84089092</td>\n",
       "      <td>其他14kw＜输出功率＜132.39kw压燃活塞内</td>\n",
       "      <td>3702962489</td>\n",
       "      <td>青岛莱运动力机械有限公司</td>\n",
       "      <td>31102.0</td>\n",
       "    </tr>\n",
       "    <tr>\n",
       "      <th>4</th>\n",
       "      <td>2016</td>\n",
       "      <td>出口</td>\n",
       "      <td>10</td>\n",
       "      <td>一般贸易</td>\n",
       "      <td>101</td>\n",
       "      <td>阿富汗</td>\n",
       "      <td>84099199</td>\n",
       "      <td>其他点燃式活塞内燃发动机的零件</td>\n",
       "      <td>44019689V6</td>\n",
       "      <td>广州市大阳摩托车有限公司</td>\n",
       "      <td>3082.0</td>\n",
       "    </tr>\n",
       "  </tbody>\n",
       "</table>\n",
       "</div>"
      ],
      "text/plain": [
       "     年份 进出口标志  贸易方式编码 贸易方式名称  产销国编码 产销国名称  商品HS8位编码  \\\n",
       "0  2016    出口      10   一般贸易    101   阿富汗  83011000   \n",
       "1  2016    出口      10   一般贸易    101   阿富汗  83024100   \n",
       "2  2016    出口      10   一般贸易    101   阿富汗  83100000   \n",
       "3  2016    出口      10   一般贸易    101   阿富汗  84089092   \n",
       "4  2016    出口      10   一般贸易    101   阿富汗  84099199   \n",
       "\n",
       "                    商品HS8位名称        企业编码            企业名称     出口金额  \n",
       "0                         挂锁  4403160056  深圳市一达通企业服务有限公司  49138.0  \n",
       "1             建筑用其他贱金属制附件及架座  3318961C07    义乌市时雨进出口有限公司    753.0  \n",
       "2        贱金属标志牌、铭牌、地名牌、号码等标志  3302240204      宁波怡人玩具有限公司     10.0  \n",
       "3  其他14kw＜输出功率＜132.39kw压燃活塞内  3702962489    青岛莱运动力机械有限公司  31102.0  \n",
       "4            其他点燃式活塞内燃发动机的零件  44019689V6    广州市大阳摩托车有限公司   3082.0  "
      ]
     },
     "execution_count": 5,
     "metadata": {},
     "output_type": "execute_result"
    }
   ],
   "source": [
    "df.head()"
   ]
  },
  {
   "cell_type": "code",
   "execution_count": 5,
   "metadata": {},
   "outputs": [
    {
     "data": {
      "text/plain": [
       "年份            int16\n",
       "进出口标志        object\n",
       "贸易方式编码         int8\n",
       "贸易方式名称       object\n",
       "产销国编码         int16\n",
       "产销国名称        object\n",
       "商品HS8位编码      int32\n",
       "商品HS8位名称     object\n",
       "企业编码         object\n",
       "企业名称         object\n",
       "出口金额        float64\n",
       "dtype: object"
      ]
     },
     "execution_count": 5,
     "metadata": {},
     "output_type": "execute_result"
    }
   ],
   "source": [
    "df.dtypes"
   ]
  },
  {
   "cell_type": "code",
   "execution_count": 7,
   "metadata": {},
   "outputs": [
    {
     "data": {
      "text/plain": [
       "2033669554137.0"
      ]
     },
     "execution_count": 7,
     "metadata": {},
     "output_type": "execute_result"
    }
   ],
   "source": [
    "total_export_value = df['出口金额'].sum()\n",
    "total_export_value"
   ]
  },
  {
   "cell_type": "code",
   "execution_count": 7,
   "metadata": {},
   "outputs": [
    {
     "ename": "KeyError",
     "evalue": "'出口金额'",
     "output_type": "error",
     "traceback": [
      "\u001b[0;31m---------------------------------------------------------------------------\u001b[0m",
      "\u001b[0;31mKeyError\u001b[0m                                  Traceback (most recent call last)",
      "Cell \u001b[0;32mIn[7], line 15\u001b[0m\n\u001b[1;32m     12\u001b[0m filtered_df \u001b[38;5;241m=\u001b[39m df[\u001b[38;5;124m'\u001b[39m\u001b[38;5;124m企业名称\u001b[39m\u001b[38;5;124m'\u001b[39m]\u001b[38;5;241m.\u001b[39misin(target_companies)\n\u001b[1;32m     14\u001b[0m \u001b[38;5;66;03m# 计算这些公司出口美国的总金额\u001b[39;00m\n\u001b[0;32m---> 15\u001b[0m total_export_amount \u001b[38;5;241m=\u001b[39m filtered_df[\u001b[38;5;124m'\u001b[39m\u001b[38;5;124m出口金额\u001b[39m\u001b[38;5;124m'\u001b[39m]\u001b[38;5;241m.\u001b[39msum()\n\u001b[1;32m     17\u001b[0m \u001b[38;5;28mprint\u001b[39m(\u001b[38;5;124mf\u001b[39m\u001b[38;5;124m'\u001b[39m\u001b[38;5;124m这6家公司出口美国的总金额为: \u001b[39m\u001b[38;5;132;01m{\u001b[39;00mtotal_export_amount\u001b[38;5;132;01m}\u001b[39;00m\u001b[38;5;124m'\u001b[39m)\n",
      "File \u001b[0;32m/opt/anaconda3/lib/python3.12/site-packages/pandas/core/series.py:1121\u001b[0m, in \u001b[0;36mSeries.__getitem__\u001b[0;34m(self, key)\u001b[0m\n\u001b[1;32m   1118\u001b[0m     \u001b[38;5;28;01mreturn\u001b[39;00m \u001b[38;5;28mself\u001b[39m\u001b[38;5;241m.\u001b[39m_values[key]\n\u001b[1;32m   1120\u001b[0m \u001b[38;5;28;01melif\u001b[39;00m key_is_scalar:\n\u001b[0;32m-> 1121\u001b[0m     \u001b[38;5;28;01mreturn\u001b[39;00m \u001b[38;5;28mself\u001b[39m\u001b[38;5;241m.\u001b[39m_get_value(key)\n\u001b[1;32m   1123\u001b[0m \u001b[38;5;66;03m# Convert generator to list before going through hashable part\u001b[39;00m\n\u001b[1;32m   1124\u001b[0m \u001b[38;5;66;03m# (We will iterate through the generator there to check for slices)\u001b[39;00m\n\u001b[1;32m   1125\u001b[0m \u001b[38;5;28;01mif\u001b[39;00m is_iterator(key):\n",
      "File \u001b[0;32m/opt/anaconda3/lib/python3.12/site-packages/pandas/core/series.py:1237\u001b[0m, in \u001b[0;36mSeries._get_value\u001b[0;34m(self, label, takeable)\u001b[0m\n\u001b[1;32m   1234\u001b[0m     \u001b[38;5;28;01mreturn\u001b[39;00m \u001b[38;5;28mself\u001b[39m\u001b[38;5;241m.\u001b[39m_values[label]\n\u001b[1;32m   1236\u001b[0m \u001b[38;5;66;03m# Similar to Index.get_value, but we do not fall back to positional\u001b[39;00m\n\u001b[0;32m-> 1237\u001b[0m loc \u001b[38;5;241m=\u001b[39m \u001b[38;5;28mself\u001b[39m\u001b[38;5;241m.\u001b[39mindex\u001b[38;5;241m.\u001b[39mget_loc(label)\n\u001b[1;32m   1239\u001b[0m \u001b[38;5;28;01mif\u001b[39;00m is_integer(loc):\n\u001b[1;32m   1240\u001b[0m     \u001b[38;5;28;01mreturn\u001b[39;00m \u001b[38;5;28mself\u001b[39m\u001b[38;5;241m.\u001b[39m_values[loc]\n",
      "File \u001b[0;32m/opt/anaconda3/lib/python3.12/site-packages/pandas/core/indexes/range.py:417\u001b[0m, in \u001b[0;36mRangeIndex.get_loc\u001b[0;34m(self, key)\u001b[0m\n\u001b[1;32m    415\u001b[0m         \u001b[38;5;28;01mraise\u001b[39;00m \u001b[38;5;167;01mKeyError\u001b[39;00m(key) \u001b[38;5;28;01mfrom\u001b[39;00m \u001b[38;5;21;01merr\u001b[39;00m\n\u001b[1;32m    416\u001b[0m \u001b[38;5;28;01mif\u001b[39;00m \u001b[38;5;28misinstance\u001b[39m(key, Hashable):\n\u001b[0;32m--> 417\u001b[0m     \u001b[38;5;28;01mraise\u001b[39;00m \u001b[38;5;167;01mKeyError\u001b[39;00m(key)\n\u001b[1;32m    418\u001b[0m \u001b[38;5;28mself\u001b[39m\u001b[38;5;241m.\u001b[39m_check_indexing_error(key)\n\u001b[1;32m    419\u001b[0m \u001b[38;5;28;01mraise\u001b[39;00m \u001b[38;5;167;01mKeyError\u001b[39;00m(key)\n",
      "\u001b[0;31mKeyError\u001b[0m: '出口金额'"
     ]
    }
   ],
   "source": [
    "\n",
    "# 假设你的DataFrame名称是 df\n",
    "target_companies = [\n",
    "    '江西凤竹棉纺有限公司',\n",
    "    '河南凤竹纺织有限公司',\n",
    "    '厦门凤竹商贸有限公司',\n",
    "    '福建凤竹纺织科技股份有限公司',\n",
    "    '晋江凤竹印花有限公司',\n",
    "    '凤竹(香港)实业有限公司'\n",
    "]\n",
    "\n",
    "# 筛选出口到美国的记录\n",
    "filtered_df = df['企业名称'].isin(target_companies)\n",
    "\n",
    "# 计算这些公司出口美国的总金额\n",
    "total_export_amount = filtered_df['出口金额'].sum()\n",
    "\n",
    "print(f'这6家公司出口美国的总金额为: {total_export_amount}')\n"
   ]
  },
  {
   "cell_type": "code",
   "execution_count": 13,
   "metadata": {},
   "outputs": [
    {
     "data": {
      "text/plain": [
       "38361058.0"
      ]
     },
     "execution_count": 13,
     "metadata": {},
     "output_type": "execute_result"
    }
   ],
   "source": [
    "export_sum = df[df['企业名称'].isin(target_companies)]['出口金额'].sum()\n",
    "export_sum"
   ]
  },
  {
   "cell_type": "code",
   "execution_count": 15,
   "metadata": {},
   "outputs": [
    {
     "data": {
      "text/html": [
       "<div>\n",
       "<style scoped>\n",
       "    .dataframe tbody tr th:only-of-type {\n",
       "        vertical-align: middle;\n",
       "    }\n",
       "\n",
       "    .dataframe tbody tr th {\n",
       "        vertical-align: top;\n",
       "    }\n",
       "\n",
       "    .dataframe thead th {\n",
       "        text-align: right;\n",
       "    }\n",
       "</style>\n",
       "<table border=\"1\" class=\"dataframe\">\n",
       "  <thead>\n",
       "    <tr style=\"text-align: right;\">\n",
       "      <th></th>\n",
       "      <th>年份</th>\n",
       "      <th>进出口标志</th>\n",
       "      <th>贸易方式编码</th>\n",
       "      <th>贸易方式名称</th>\n",
       "      <th>产销国编码</th>\n",
       "      <th>产销国名称</th>\n",
       "      <th>商品HS8位编码</th>\n",
       "      <th>商品HS8位名称</th>\n",
       "      <th>企业编码</th>\n",
       "      <th>企业名称</th>\n",
       "      <th>出口金额</th>\n",
       "    </tr>\n",
       "  </thead>\n",
       "  <tbody>\n",
       "    <tr>\n",
       "      <th>2007531</th>\n",
       "      <td>2016</td>\n",
       "      <td>出口</td>\n",
       "      <td>10</td>\n",
       "      <td>一般贸易</td>\n",
       "      <td>103</td>\n",
       "      <td>孟加拉国</td>\n",
       "      <td>60062100</td>\n",
       "      <td>棉制未漂白或漂白其他针织或钩编织物</td>\n",
       "      <td>3505964900</td>\n",
       "      <td>福建凤竹纺织科技股份有限公司</td>\n",
       "      <td>116534.0</td>\n",
       "    </tr>\n",
       "    <tr>\n",
       "      <th>2008319</th>\n",
       "      <td>2016</td>\n",
       "      <td>出口</td>\n",
       "      <td>10</td>\n",
       "      <td>一般贸易</td>\n",
       "      <td>103</td>\n",
       "      <td>孟加拉国</td>\n",
       "      <td>60062200</td>\n",
       "      <td>棉制染色其他针织或钩编织物</td>\n",
       "      <td>3505964900</td>\n",
       "      <td>福建凤竹纺织科技股份有限公司</td>\n",
       "      <td>548870.0</td>\n",
       "    </tr>\n",
       "    <tr>\n",
       "      <th>2009011</th>\n",
       "      <td>2016</td>\n",
       "      <td>出口</td>\n",
       "      <td>10</td>\n",
       "      <td>一般贸易</td>\n",
       "      <td>103</td>\n",
       "      <td>孟加拉国</td>\n",
       "      <td>60062200</td>\n",
       "      <td>棉制染色其他针织或钩编织物</td>\n",
       "      <td>3505933141</td>\n",
       "      <td>福建凤竹纺织科技股份有限公司</td>\n",
       "      <td>925477.0</td>\n",
       "    </tr>\n",
       "    <tr>\n",
       "      <th>2009289</th>\n",
       "      <td>2016</td>\n",
       "      <td>出口</td>\n",
       "      <td>10</td>\n",
       "      <td>一般贸易</td>\n",
       "      <td>103</td>\n",
       "      <td>孟加拉国</td>\n",
       "      <td>60019100</td>\n",
       "      <td>棉制针织或钩编的其他起绒织物</td>\n",
       "      <td>3505933141</td>\n",
       "      <td>福建凤竹纺织科技股份有限公司</td>\n",
       "      <td>15141.0</td>\n",
       "    </tr>\n",
       "    <tr>\n",
       "      <th>2012876</th>\n",
       "      <td>2016</td>\n",
       "      <td>出口</td>\n",
       "      <td>10</td>\n",
       "      <td>一般贸易</td>\n",
       "      <td>107</td>\n",
       "      <td>柬埔寨</td>\n",
       "      <td>60062400</td>\n",
       "      <td>棉制印花其他针织或钩编织物</td>\n",
       "      <td>3505964900</td>\n",
       "      <td>福建凤竹纺织科技股份有限公司</td>\n",
       "      <td>212732.0</td>\n",
       "    </tr>\n",
       "    <tr>\n",
       "      <th>...</th>\n",
       "      <td>...</td>\n",
       "      <td>...</td>\n",
       "      <td>...</td>\n",
       "      <td>...</td>\n",
       "      <td>...</td>\n",
       "      <td>...</td>\n",
       "      <td>...</td>\n",
       "      <td>...</td>\n",
       "      <td>...</td>\n",
       "      <td>...</td>\n",
       "      <td>...</td>\n",
       "    </tr>\n",
       "    <tr>\n",
       "      <th>2811648</th>\n",
       "      <td>2016</td>\n",
       "      <td>出口</td>\n",
       "      <td>15</td>\n",
       "      <td>加工贸易</td>\n",
       "      <td>141</td>\n",
       "      <td>越南</td>\n",
       "      <td>60062200</td>\n",
       "      <td>棉制染色其他针织或钩编织物</td>\n",
       "      <td>3505964900</td>\n",
       "      <td>福建凤竹纺织科技股份有限公司</td>\n",
       "      <td>134676.0</td>\n",
       "    </tr>\n",
       "    <tr>\n",
       "      <th>2811650</th>\n",
       "      <td>2016</td>\n",
       "      <td>出口</td>\n",
       "      <td>15</td>\n",
       "      <td>加工贸易</td>\n",
       "      <td>141</td>\n",
       "      <td>越南</td>\n",
       "      <td>60062300</td>\n",
       "      <td>棉制色织其他针织或钩编织物</td>\n",
       "      <td>3505933141</td>\n",
       "      <td>福建凤竹纺织科技股份有限公司</td>\n",
       "      <td>125022.0</td>\n",
       "    </tr>\n",
       "    <tr>\n",
       "      <th>2845830</th>\n",
       "      <td>2016</td>\n",
       "      <td>出口</td>\n",
       "      <td>15</td>\n",
       "      <td>加工贸易</td>\n",
       "      <td>110</td>\n",
       "      <td>香港</td>\n",
       "      <td>60062400</td>\n",
       "      <td>棉制印花其他针织或钩编织物</td>\n",
       "      <td>3505964900</td>\n",
       "      <td>福建凤竹纺织科技股份有限公司</td>\n",
       "      <td>634099.0</td>\n",
       "    </tr>\n",
       "    <tr>\n",
       "      <th>3007007</th>\n",
       "      <td>2016</td>\n",
       "      <td>出口</td>\n",
       "      <td>10</td>\n",
       "      <td>一般贸易</td>\n",
       "      <td>440</td>\n",
       "      <td>萨尔瓦多</td>\n",
       "      <td>60062200</td>\n",
       "      <td>棉制染色其他针织或钩编织物</td>\n",
       "      <td>3505933141</td>\n",
       "      <td>福建凤竹纺织科技股份有限公司</td>\n",
       "      <td>2319209.0</td>\n",
       "    </tr>\n",
       "    <tr>\n",
       "      <th>3013272</th>\n",
       "      <td>2016</td>\n",
       "      <td>出口</td>\n",
       "      <td>15</td>\n",
       "      <td>加工贸易</td>\n",
       "      <td>107</td>\n",
       "      <td>柬埔寨</td>\n",
       "      <td>60062300</td>\n",
       "      <td>棉制色织其他针织或钩编织物</td>\n",
       "      <td>3505964900</td>\n",
       "      <td>福建凤竹纺织科技股份有限公司</td>\n",
       "      <td>33783.0</td>\n",
       "    </tr>\n",
       "  </tbody>\n",
       "</table>\n",
       "<p>90 rows × 11 columns</p>\n",
       "</div>"
      ],
      "text/plain": [
       "           年份 进出口标志  贸易方式编码 贸易方式名称  产销国编码 产销国名称  商品HS8位编码           商品HS8位名称  \\\n",
       "2007531  2016    出口      10   一般贸易    103  孟加拉国  60062100  棉制未漂白或漂白其他针织或钩编织物   \n",
       "2008319  2016    出口      10   一般贸易    103  孟加拉国  60062200      棉制染色其他针织或钩编织物   \n",
       "2009011  2016    出口      10   一般贸易    103  孟加拉国  60062200      棉制染色其他针织或钩编织物   \n",
       "2009289  2016    出口      10   一般贸易    103  孟加拉国  60019100     棉制针织或钩编的其他起绒织物   \n",
       "2012876  2016    出口      10   一般贸易    107   柬埔寨  60062400      棉制印花其他针织或钩编织物   \n",
       "...       ...   ...     ...    ...    ...   ...       ...                ...   \n",
       "2811648  2016    出口      15   加工贸易    141    越南  60062200      棉制染色其他针织或钩编织物   \n",
       "2811650  2016    出口      15   加工贸易    141    越南  60062300      棉制色织其他针织或钩编织物   \n",
       "2845830  2016    出口      15   加工贸易    110    香港  60062400      棉制印花其他针织或钩编织物   \n",
       "3007007  2016    出口      10   一般贸易    440  萨尔瓦多  60062200      棉制染色其他针织或钩编织物   \n",
       "3013272  2016    出口      15   加工贸易    107   柬埔寨  60062300      棉制色织其他针织或钩编织物   \n",
       "\n",
       "               企业编码            企业名称       出口金额  \n",
       "2007531  3505964900  福建凤竹纺织科技股份有限公司   116534.0  \n",
       "2008319  3505964900  福建凤竹纺织科技股份有限公司   548870.0  \n",
       "2009011  3505933141  福建凤竹纺织科技股份有限公司   925477.0  \n",
       "2009289  3505933141  福建凤竹纺织科技股份有限公司    15141.0  \n",
       "2012876  3505964900  福建凤竹纺织科技股份有限公司   212732.0  \n",
       "...             ...             ...        ...  \n",
       "2811648  3505964900  福建凤竹纺织科技股份有限公司   134676.0  \n",
       "2811650  3505933141  福建凤竹纺织科技股份有限公司   125022.0  \n",
       "2845830  3505964900  福建凤竹纺织科技股份有限公司   634099.0  \n",
       "3007007  3505933141  福建凤竹纺织科技股份有限公司  2319209.0  \n",
       "3013272  3505964900  福建凤竹纺织科技股份有限公司    33783.0  \n",
       "\n",
       "[90 rows x 11 columns]"
      ]
     },
     "execution_count": 15,
     "metadata": {},
     "output_type": "execute_result"
    }
   ],
   "source": [
    "df[df['企业名称'].isin(target_companies)]"
   ]
  },
  {
   "cell_type": "code",
   "execution_count": 11,
   "metadata": {},
   "outputs": [
    {
     "name": "stdout",
     "output_type": "stream",
     "text": [
      "                   企业名称      出口金额 产销国名称\n",
      "2007531  福建凤竹纺织科技股份有限公司  116534.0  孟加拉国\n",
      "2008319  福建凤竹纺织科技股份有限公司  548870.0  孟加拉国\n",
      "2009011  福建凤竹纺织科技股份有限公司  925477.0  孟加拉国\n",
      "2009289  福建凤竹纺织科技股份有限公司   15141.0  孟加拉国\n",
      "2012876  福建凤竹纺织科技股份有限公司  212732.0   柬埔寨\n",
      "...                 ...       ...   ...\n",
      "5986876  福建晋江凤竹鞋业发展有限公司   17882.0   阿联酋\n",
      "6129127  福建晋江凤竹鞋业发展有限公司      14.0    日本\n",
      "7176470  福建晋江凤竹鞋业发展有限公司      43.0    日本\n",
      "8462076  福建晋江凤竹鞋业发展有限公司   36050.0   突尼斯\n",
      "8483280  福建晋江凤竹鞋业发展有限公司  314618.0    南非\n",
      "\n",
      "[119 rows x 3 columns]\n"
     ]
    }
   ],
   "source": [
    "\n",
    "# 使用str.contains进行模糊匹配\n",
    "matched_companies = df[df['企业名称'].str.contains('凤竹', na=False)]\n",
    "\n",
    "# 输出匹配到的公司和其对应的出口金额等信息\n",
    "print(matched_companies[['企业名称', '出口金额', '产销国名称']])\n"
   ]
  },
  {
   "cell_type": "code",
   "execution_count": 12,
   "metadata": {},
   "outputs": [
    {
     "data": {
      "text/plain": [
       "40969078.0"
      ]
     },
     "execution_count": 12,
     "metadata": {},
     "output_type": "execute_result"
    }
   ],
   "source": [
    "matched_companies['出口金额'].sum()\n"
   ]
  },
  {
   "cell_type": "code",
   "execution_count": null,
   "metadata": {},
   "outputs": [],
   "source": []
  }
 ],
 "metadata": {
  "kernelspec": {
   "display_name": "base",
   "language": "python",
   "name": "python3"
  },
  "language_info": {
   "codemirror_mode": {
    "name": "ipython",
    "version": 3
   },
   "file_extension": ".py",
   "mimetype": "text/x-python",
   "name": "python",
   "nbconvert_exporter": "python",
   "pygments_lexer": "ipython3",
   "version": "3.12.4"
  }
 },
 "nbformat": 4,
 "nbformat_minor": 2
}

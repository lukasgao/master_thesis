{
 "cells": [
  {
   "cell_type": "code",
   "execution_count": 1,
   "metadata": {},
   "outputs": [],
   "source": [
    "import pandas as pd\n",
    "from pathlib import Path\n",
    "import zipfile\n",
    "import shutil\n",
    "import os"
   ]
  },
  {
   "cell_type": "code",
   "execution_count": 41,
   "metadata": {},
   "outputs": [
    {
     "data": {
      "text/plain": [
       "PosixPath('/Users/hengdegao/python/thesis/data')"
      ]
     },
     "execution_count": 41,
     "metadata": {},
     "output_type": "execute_result"
    }
   ],
   "source": [
    "SRC = Path(__file__).parent.resolve()#Jupyter去掉_file_\n",
    "SRC"
   ]
  },
  {
   "cell_type": "code",
   "execution_count": 43,
   "metadata": {},
   "outputs": [
    {
     "data": {
      "text/plain": [
       "PosixPath('/Users/hengdegao/python/thesis/data/bld')"
      ]
     },
     "execution_count": 43,
     "metadata": {},
     "output_type": "execute_result"
    }
   ],
   "source": [
    "BLD = SRC.joinpath(\"bld\").resolve()\n",
    "BLD.mkdir(parents=True, exist_ok=True)\n",
    "print(BLD)"
   ]
  },
  {
   "cell_type": "code",
   "execution_count": 46,
   "metadata": {},
   "outputs": [
    {
     "data": {
      "text/html": [
       "<div>\n",
       "<style scoped>\n",
       "    .dataframe tbody tr th:only-of-type {\n",
       "        vertical-align: middle;\n",
       "    }\n",
       "\n",
       "    .dataframe tbody tr th {\n",
       "        vertical-align: top;\n",
       "    }\n",
       "\n",
       "    .dataframe thead th {\n",
       "        text-align: right;\n",
       "    }\n",
       "</style>\n",
       "<table border=\"1\" class=\"dataframe\">\n",
       "  <thead>\n",
       "    <tr style=\"text-align: right;\">\n",
       "      <th></th>\n",
       "      <th>Stkcd</th>\n",
       "      <th>Accper</th>\n",
       "      <th>A001000000</th>\n",
       "    </tr>\n",
       "  </thead>\n",
       "  <tbody>\n",
       "    <tr>\n",
       "      <th>0</th>\n",
       "      <td>000002</td>\n",
       "      <td>2013-12-31</td>\n",
       "      <td>4.792053e+11</td>\n",
       "    </tr>\n",
       "    <tr>\n",
       "      <th>1</th>\n",
       "      <td>000002</td>\n",
       "      <td>2014-12-31</td>\n",
       "      <td>5.084088e+11</td>\n",
       "    </tr>\n",
       "    <tr>\n",
       "      <th>2</th>\n",
       "      <td>000002</td>\n",
       "      <td>2015-12-31</td>\n",
       "      <td>6.112956e+11</td>\n",
       "    </tr>\n",
       "    <tr>\n",
       "      <th>3</th>\n",
       "      <td>000002</td>\n",
       "      <td>2016-12-31</td>\n",
       "      <td>8.306742e+11</td>\n",
       "    </tr>\n",
       "    <tr>\n",
       "      <th>4</th>\n",
       "      <td>000002</td>\n",
       "      <td>2017-12-31</td>\n",
       "      <td>1.165347e+12</td>\n",
       "    </tr>\n",
       "    <tr>\n",
       "      <th>...</th>\n",
       "      <td>...</td>\n",
       "      <td>...</td>\n",
       "      <td>...</td>\n",
       "    </tr>\n",
       "    <tr>\n",
       "      <th>39611</th>\n",
       "      <td>873806</td>\n",
       "      <td>2021-12-31</td>\n",
       "      <td>5.124748e+09</td>\n",
       "    </tr>\n",
       "    <tr>\n",
       "      <th>39612</th>\n",
       "      <td>873806</td>\n",
       "      <td>2022-12-31</td>\n",
       "      <td>3.780017e+09</td>\n",
       "    </tr>\n",
       "    <tr>\n",
       "      <th>39613</th>\n",
       "      <td>873806</td>\n",
       "      <td>2023-12-31</td>\n",
       "      <td>3.210519e+09</td>\n",
       "    </tr>\n",
       "    <tr>\n",
       "      <th>39614</th>\n",
       "      <td>873833</td>\n",
       "      <td>2022-12-31</td>\n",
       "      <td>7.068130e+08</td>\n",
       "    </tr>\n",
       "    <tr>\n",
       "      <th>39615</th>\n",
       "      <td>873833</td>\n",
       "      <td>2023-12-31</td>\n",
       "      <td>7.787256e+08</td>\n",
       "    </tr>\n",
       "  </tbody>\n",
       "</table>\n",
       "<p>39616 rows × 3 columns</p>\n",
       "</div>"
      ],
      "text/plain": [
       "        Stkcd      Accper    A001000000\n",
       "0      000002  2013-12-31  4.792053e+11\n",
       "1      000002  2014-12-31  5.084088e+11\n",
       "2      000002  2015-12-31  6.112956e+11\n",
       "3      000002  2016-12-31  8.306742e+11\n",
       "4      000002  2017-12-31  1.165347e+12\n",
       "...       ...         ...           ...\n",
       "39611  873806  2021-12-31  5.124748e+09\n",
       "39612  873806  2022-12-31  3.780017e+09\n",
       "39613  873806  2023-12-31  3.210519e+09\n",
       "39614  873833  2022-12-31  7.068130e+08\n",
       "39615  873833  2023-12-31  7.787256e+08\n",
       "\n",
       "[39616 rows x 3 columns]"
      ]
     },
     "execution_count": 46,
     "metadata": {},
     "output_type": "execute_result"
    }
   ],
   "source": [
    "\n",
    "columns = ['Stkcd', 'Accper', 'A001000000']\n",
    "file\n",
    "df = pd.read_csv( SRC/'original_data/csmar/基本信息/资产负债表024800027/FS_Combas.csv',usecols= columns, dtype={'Stkcd': str})\n",
    "df"
   ]
  },
  {
   "cell_type": "code",
   "execution_count": 47,
   "metadata": {},
   "outputs": [],
   "source": [
    "df.loc[:, \"Accper\"] = pd.to_datetime(df[\"Accper\"]).dt.year\n",
    "df = df[(df['Stkcd'] >= \"000001\") & (df['Stkcd'] <= \"679999\")]\n",
    "df = df.rename(columns={\"Accper\": \"year\", \"A001000000\": \"asset\"})\n"
   ]
  },
  {
   "cell_type": "code",
   "execution_count": 48,
   "metadata": {},
   "outputs": [
    {
     "data": {
      "text/plain": [
       "4405"
      ]
     },
     "execution_count": 48,
     "metadata": {},
     "output_type": "execute_result"
    }
   ],
   "source": [
    "df['Stkcd'].nunique()"
   ]
  },
  {
   "cell_type": "code",
   "execution_count": 50,
   "metadata": {},
   "outputs": [],
   "source": [
    "produces = BLD  / \"data\" / \"balance_sheet.pkl\"\n",
    "produces.parent.mkdir(parents=True, exist_ok=True)\n",
    "df.to_pickle(produces)\n"
   ]
  },
  {
   "cell_type": "code",
   "execution_count": null,
   "metadata": {},
   "outputs": [],
   "source": []
  }
 ],
 "metadata": {
  "kernelspec": {
   "display_name": "thesis",
   "language": "python",
   "name": "python3"
  },
  "language_info": {
   "codemirror_mode": {
    "name": "ipython",
    "version": 3
   },
   "file_extension": ".py",
   "mimetype": "text/x-python",
   "name": "python",
   "nbconvert_exporter": "python",
   "pygments_lexer": "ipython3",
   "version": "3.12.7"
  }
 },
 "nbformat": 4,
 "nbformat_minor": 2
}
